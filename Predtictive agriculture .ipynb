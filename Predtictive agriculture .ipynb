{
 "cells": [
  {
   "cell_type": "code",
   "execution_count": 2,
   "id": "76e5ea8d-977b-479e-a4ae-713f0d03f609",
   "metadata": {},
   "outputs": [
    {
     "name": "stdout",
     "output_type": "stream",
     "text": [
      "<class 'pandas.core.frame.DataFrame'>\n",
      "RangeIndex: 2200 entries, 0 to 2199\n",
      "Data columns (total 5 columns):\n",
      " #   Column  Non-Null Count  Dtype  \n",
      "---  ------  --------------  -----  \n",
      " 0   N       2200 non-null   int64  \n",
      " 1   P       2200 non-null   int64  \n",
      " 2   K       2200 non-null   int64  \n",
      " 3   ph      2200 non-null   float64\n",
      " 4   crop    2200 non-null   object \n",
      "dtypes: float64(1), int64(3), object(1)\n",
      "memory usage: 86.1+ KB\n",
      "None\n",
      "N       0\n",
      "P       0\n",
      "K       0\n",
      "ph      0\n",
      "crop    0\n",
      "dtype: int64\n"
     ]
    }
   ],
   "source": [
    "# All required libraries are imported here for you.\n",
    "import pandas as pd\n",
    "from sklearn.linear_model import LogisticRegression\n",
    "from sklearn.model_selection import train_test_split\n",
    "from sklearn import metrics\n",
    "\n",
    "# Load the dataset\n",
    "crops = pd.read_csv('soil_measures.csv')\n",
    "\n",
    "# Write your code here\n",
    "print(crops.info())\n",
    "\n",
    "print(crops.isnull().sum())"
   ]
  },
  {
   "cell_type": "code",
   "execution_count": 3,
   "id": "57587f4b-e40a-4d90-a75e-be6511025140",
   "metadata": {},
   "outputs": [
    {
     "data": {
      "text/plain": [
       "((1760, 4), (440, 4), (1760,), (440,))"
      ]
     },
     "execution_count": 3,
     "metadata": {},
     "output_type": "execute_result"
    }
   ],
   "source": [
    "# Splitting the dataset into training and test sets\n",
    "X = crops.drop('crop', axis=1)  # Features - all columns except 'crop'\n",
    "y = crops['crop']  # Target variable\n",
    "\n",
    "# Splitting the data into train and test sets\n",
    "X_train, X_test, y_train, y_test = train_test_split(X, y, test_size=0.2, random_state=42)\n",
    "\n",
    "# Display the shapes of the train and test sets to verify\n",
    "X_train.shape, X_test.shape, y_train.shape, y_test.shape"
   ]
  },
  {
   "cell_type": "code",
   "execution_count": 20,
   "id": "66b27cf0-e50c-42f1-9ff3-a3e8a3c6c90d",
   "metadata": {},
   "outputs": [
    {
     "name": "stdout",
     "output_type": "stream",
     "text": [
      "Accuracy using N: 0.0705\n",
      "Accuracy using P: 0.0477\n",
      "Accuracy using K: 0.0318\n",
      "Accuracy using ph: 0.0864\n"
     ]
    },
    {
     "data": {
      "text/html": [
       "<div>\n",
       "<style scoped>\n",
       "    .dataframe tbody tr th:only-of-type {\n",
       "        vertical-align: middle;\n",
       "    }\n",
       "\n",
       "    .dataframe tbody tr th {\n",
       "        vertical-align: top;\n",
       "    }\n",
       "\n",
       "    .dataframe thead th {\n",
       "        text-align: right;\n",
       "    }\n",
       "</style>\n",
       "<table border=\"1\" class=\"dataframe\">\n",
       "  <thead>\n",
       "    <tr style=\"text-align: right;\">\n",
       "      <th></th>\n",
       "      <th>Feature</th>\n",
       "      <th>Accuracy</th>\n",
       "    </tr>\n",
       "  </thead>\n",
       "  <tbody>\n",
       "    <tr>\n",
       "      <th>0</th>\n",
       "      <td>N</td>\n",
       "      <td>0.070455</td>\n",
       "    </tr>\n",
       "    <tr>\n",
       "      <th>1</th>\n",
       "      <td>P</td>\n",
       "      <td>0.047727</td>\n",
       "    </tr>\n",
       "    <tr>\n",
       "      <th>2</th>\n",
       "      <td>K</td>\n",
       "      <td>0.031818</td>\n",
       "    </tr>\n",
       "    <tr>\n",
       "      <th>3</th>\n",
       "      <td>ph</td>\n",
       "      <td>0.086364</td>\n",
       "    </tr>\n",
       "  </tbody>\n",
       "</table>\n",
       "</div>"
      ],
      "text/plain": [
       "  Feature  Accuracy\n",
       "0       N  0.070455\n",
       "1       P  0.047727\n",
       "2       K  0.031818\n",
       "3      ph  0.086364"
      ]
     },
     "execution_count": 20,
     "metadata": {},
     "output_type": "execute_result"
    }
   ],
   "source": [
    "# Import necessary libraries\n",
    "import warnings\n",
    "from sklearn.metrics import accuracy_score\n",
    "from sklearn.exceptions import ConvergenceWarning \n",
    "# Initialize lists to store accuracies for each feature\n",
    "feature_names = ['N', 'P', 'K', 'ph']\n",
    "accuracies = []\n",
    "\n",
    "# Loop through each feature to build a model and calculate its accuracy\n",
    "for feature in feature_names:\n",
    "    # Prepare the data for the current feature\n",
    "    X_feature = X_train[[feature]]  # Using double brackets to keep the dataframe format\n",
    "    X_test_feature = X_test[[feature]]\n",
    "    # Suppress convergence warnings\n",
    "    warnings.filterwarnings(\"ignore\", category=ConvergenceWarning)\n",
    "\n",
    "    # Initialize the Logistic Regression model\n",
    "    model = LogisticRegression(solver='saga')\n",
    "    \n",
    "    # Fit the model\n",
    "    model.fit(X_feature, y_train)\n",
    "    \n",
    "    # Make predictions\n",
    "    predictions = model.predict(X_test_feature)\n",
    "    \n",
    "    # Calculate accuracy\n",
    "    accuracy = accuracy_score(y_test, predictions)\n",
    "    accuracies.append(accuracy)\n",
    "    \n",
    "    # Print the accuracy for the current feature\n",
    "    print(f\"Accuracy using {feature}: {accuracy:.4f}\")\n",
    "\n",
    "# Optionally, create a DataFrame to display feature names alongside their accuracies\n",
    "feature_accuracies = pd.DataFrame({'Feature': feature_names, 'Accuracy': accuracies})\n",
    "feature_accuracies"
   ]
  },
  {
   "cell_type": "code",
   "execution_count": 21,
   "id": "d3562af1-84cf-4209-adb7-efde0045b801",
   "metadata": {},
   "outputs": [
    {
     "data": {
      "text/plain": [
       "{'ph': 0.08636363636363636}"
      ]
     },
     "execution_count": 21,
     "metadata": {},
     "output_type": "execute_result"
    }
   ],
   "source": [
    "\n",
    "best_feature_index = accuracies.index(max(accuracies))\n",
    "best_predictive_feature = {feature_names[best_feature_index]: accuracies[best_feature_index]}\n",
    "\n",
    "best_predictive_feature\n"
   ]
  },
  {
   "cell_type": "code",
   "execution_count": null,
   "id": "c92f8b30-158d-4214-bb90-ac0430d0e873",
   "metadata": {},
   "outputs": [],
   "source": []
  }
 ],
 "metadata": {
  "kernelspec": {
   "display_name": "Python 3 (ipykernel)",
   "language": "python",
   "name": "python3"
  },
  "language_info": {
   "codemirror_mode": {
    "name": "ipython",
    "version": 3
   },
   "file_extension": ".py",
   "mimetype": "text/x-python",
   "name": "python",
   "nbconvert_exporter": "python",
   "pygments_lexer": "ipython3",
   "version": "3.12.2"
  }
 },
 "nbformat": 4,
 "nbformat_minor": 5
}
